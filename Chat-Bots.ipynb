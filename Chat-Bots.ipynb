{
 "cells": [
  {
   "cell_type": "markdown",
   "metadata": {},
   "source": [
    "# Question and Answer Chat Bots"
   ]
  },
  {
   "cell_type": "markdown",
   "metadata": {},
   "source": [
    "----\n",
    "\n",
    "------"
   ]
  },
  {
   "cell_type": "markdown",
   "metadata": {},
   "source": [
    "## Loading the Data\n",
    "\n",
    "We will be working with the Babi Data Set from Facebook Research.\n",
    "\n",
    "Full Details: https://research.fb.com/downloads/babi/\n",
    "\n",
    "- Jason Weston, Antoine Bordes, Sumit Chopra, Tomas Mikolov, Alexander M. Rush,\n",
    "  \"Towards AI-Complete Question Answering: A Set of Prerequisite Toy Tasks\",\n",
    "  http://arxiv.org/abs/1502.05698\n"
   ]
  },
  {
   "cell_type": "code",
   "execution_count": 1,
   "metadata": {},
   "outputs": [],
   "source": [
    "import pickle\n",
    "import numpy as np"
   ]
  },
  {
   "cell_type": "code",
   "execution_count": 2,
   "metadata": {},
   "outputs": [],
   "source": [
    "with open(\"train_qa.txt\", \"rb\") as fp:   # Unpickling\n",
    "    train_data =  pickle.load(fp)"
   ]
  },
  {
   "cell_type": "code",
   "execution_count": 3,
   "metadata": {},
   "outputs": [],
   "source": [
    "with open(\"test_qa.txt\", \"rb\") as fp:   # Unpickling\n",
    "    test_data =  pickle.load(fp)"
   ]
  },
  {
   "cell_type": "markdown",
   "metadata": {},
   "source": [
    "----"
   ]
  },
  {
   "cell_type": "markdown",
   "metadata": {},
   "source": [
    "## Exploring the Format of the Data"
   ]
  },
  {
   "cell_type": "code",
   "execution_count": 4,
   "metadata": {},
   "outputs": [
    {
     "data": {
      "text/plain": [
       "list"
      ]
     },
     "execution_count": 4,
     "metadata": {},
     "output_type": "execute_result"
    }
   ],
   "source": [
    "type(test_data)"
   ]
  },
  {
   "cell_type": "code",
   "execution_count": 5,
   "metadata": {},
   "outputs": [
    {
     "data": {
      "text/plain": [
       "list"
      ]
     },
     "execution_count": 5,
     "metadata": {},
     "output_type": "execute_result"
    }
   ],
   "source": [
    "type(train_data)"
   ]
  },
  {
   "cell_type": "code",
   "execution_count": 6,
   "metadata": {},
   "outputs": [
    {
     "data": {
      "text/plain": [
       "1000"
      ]
     },
     "execution_count": 6,
     "metadata": {},
     "output_type": "execute_result"
    }
   ],
   "source": [
    "len(test_data)"
   ]
  },
  {
   "cell_type": "code",
   "execution_count": 7,
   "metadata": {},
   "outputs": [
    {
     "data": {
      "text/plain": [
       "10000"
      ]
     },
     "execution_count": 7,
     "metadata": {},
     "output_type": "execute_result"
    }
   ],
   "source": [
    "len(train_data)"
   ]
  },
  {
   "cell_type": "code",
   "execution_count": 8,
   "metadata": {},
   "outputs": [
    {
     "data": {
      "text/plain": [
       "(['Mary',\n",
       "  'moved',\n",
       "  'to',\n",
       "  'the',\n",
       "  'bathroom',\n",
       "  '.',\n",
       "  'Sandra',\n",
       "  'journeyed',\n",
       "  'to',\n",
       "  'the',\n",
       "  'bedroom',\n",
       "  '.'],\n",
       " ['Is', 'Sandra', 'in', 'the', 'hallway', '?'],\n",
       " 'no')"
      ]
     },
     "execution_count": 8,
     "metadata": {},
     "output_type": "execute_result"
    }
   ],
   "source": [
    "train_data[0]"
   ]
  },
  {
   "cell_type": "code",
   "execution_count": 9,
   "metadata": {},
   "outputs": [
    {
     "data": {
      "text/plain": [
       "'Mary moved to the bathroom . Sandra journeyed to the bedroom .'"
      ]
     },
     "execution_count": 9,
     "metadata": {},
     "output_type": "execute_result"
    }
   ],
   "source": [
    "' '.join(train_data[0][0])"
   ]
  },
  {
   "cell_type": "code",
   "execution_count": 10,
   "metadata": {},
   "outputs": [
    {
     "data": {
      "text/plain": [
       "'Is Sandra in the hallway ?'"
      ]
     },
     "execution_count": 10,
     "metadata": {},
     "output_type": "execute_result"
    }
   ],
   "source": [
    "' '.join(train_data[0][1])"
   ]
  },
  {
   "cell_type": "code",
   "execution_count": 11,
   "metadata": {},
   "outputs": [
    {
     "data": {
      "text/plain": [
       "'no'"
      ]
     },
     "execution_count": 11,
     "metadata": {},
     "output_type": "execute_result"
    }
   ],
   "source": [
    "train_data[0][2]"
   ]
  },
  {
   "cell_type": "markdown",
   "metadata": {},
   "source": [
    "-----\n",
    "\n",
    "## Setting up Vocabulary of All Words"
   ]
  },
  {
   "cell_type": "code",
   "execution_count": 12,
   "metadata": {},
   "outputs": [],
   "source": [
    "# Create a set that holds the vocab words\n",
    "vocab = set()"
   ]
  },
  {
   "cell_type": "code",
   "execution_count": 13,
   "metadata": {},
   "outputs": [],
   "source": [
    "all_data = test_data + train_data"
   ]
  },
  {
   "cell_type": "code",
   "execution_count": 14,
   "metadata": {},
   "outputs": [],
   "source": [
    "for story, question , answer in all_data:\n",
    "    # In case you don't know what a union of sets is:\n",
    "    # https://www.programiz.com/python-programming/methods/set/union\n",
    "    vocab = vocab.union(set(story))\n",
    "    vocab = vocab.union(set(question))"
   ]
  },
  {
   "cell_type": "code",
   "execution_count": 15,
   "metadata": {},
   "outputs": [],
   "source": [
    "vocab.add('no')\n",
    "vocab.add('yes')"
   ]
  },
  {
   "cell_type": "code",
   "execution_count": 16,
   "metadata": {},
   "outputs": [
    {
     "data": {
      "text/plain": [
       "{'.',\n",
       " '?',\n",
       " 'Daniel',\n",
       " 'Is',\n",
       " 'John',\n",
       " 'Mary',\n",
       " 'Sandra',\n",
       " 'apple',\n",
       " 'back',\n",
       " 'bathroom',\n",
       " 'bedroom',\n",
       " 'discarded',\n",
       " 'down',\n",
       " 'dropped',\n",
       " 'football',\n",
       " 'garden',\n",
       " 'got',\n",
       " 'grabbed',\n",
       " 'hallway',\n",
       " 'in',\n",
       " 'journeyed',\n",
       " 'kitchen',\n",
       " 'left',\n",
       " 'milk',\n",
       " 'moved',\n",
       " 'no',\n",
       " 'office',\n",
       " 'picked',\n",
       " 'put',\n",
       " 'the',\n",
       " 'there',\n",
       " 'to',\n",
       " 'took',\n",
       " 'travelled',\n",
       " 'up',\n",
       " 'went',\n",
       " 'yes'}"
      ]
     },
     "execution_count": 16,
     "metadata": {},
     "output_type": "execute_result"
    }
   ],
   "source": [
    "vocab"
   ]
  },
  {
   "cell_type": "code",
   "execution_count": 17,
   "metadata": {},
   "outputs": [],
   "source": [
    "vocab_len = len(vocab) + 1 #we add an extra space to hold a 0 for Keras's pad_sequences"
   ]
  },
  {
   "cell_type": "code",
   "execution_count": 18,
   "metadata": {},
   "outputs": [],
   "source": [
    "max_story_len = max([len(data[0]) for data in all_data])"
   ]
  },
  {
   "cell_type": "code",
   "execution_count": 19,
   "metadata": {},
   "outputs": [
    {
     "data": {
      "text/plain": [
       "156"
      ]
     },
     "execution_count": 19,
     "metadata": {},
     "output_type": "execute_result"
    }
   ],
   "source": [
    "max_story_len"
   ]
  },
  {
   "cell_type": "code",
   "execution_count": 20,
   "metadata": {},
   "outputs": [],
   "source": [
    "max_question_len = max([len(data[1]) for data in all_data])"
   ]
  },
  {
   "cell_type": "code",
   "execution_count": 21,
   "metadata": {},
   "outputs": [
    {
     "data": {
      "text/plain": [
       "6"
      ]
     },
     "execution_count": 21,
     "metadata": {},
     "output_type": "execute_result"
    }
   ],
   "source": [
    "max_question_len"
   ]
  },
  {
   "cell_type": "markdown",
   "metadata": {},
   "source": [
    "## Vectorizing the Data"
   ]
  },
  {
   "cell_type": "code",
   "execution_count": 22,
   "metadata": {},
   "outputs": [
    {
     "data": {
      "text/plain": [
       "{'.',\n",
       " '?',\n",
       " 'Daniel',\n",
       " 'Is',\n",
       " 'John',\n",
       " 'Mary',\n",
       " 'Sandra',\n",
       " 'apple',\n",
       " 'back',\n",
       " 'bathroom',\n",
       " 'bedroom',\n",
       " 'discarded',\n",
       " 'down',\n",
       " 'dropped',\n",
       " 'football',\n",
       " 'garden',\n",
       " 'got',\n",
       " 'grabbed',\n",
       " 'hallway',\n",
       " 'in',\n",
       " 'journeyed',\n",
       " 'kitchen',\n",
       " 'left',\n",
       " 'milk',\n",
       " 'moved',\n",
       " 'no',\n",
       " 'office',\n",
       " 'picked',\n",
       " 'put',\n",
       " 'the',\n",
       " 'there',\n",
       " 'to',\n",
       " 'took',\n",
       " 'travelled',\n",
       " 'up',\n",
       " 'went',\n",
       " 'yes'}"
      ]
     },
     "execution_count": 22,
     "metadata": {},
     "output_type": "execute_result"
    }
   ],
   "source": [
    "vocab"
   ]
  },
  {
   "cell_type": "code",
   "execution_count": 23,
   "metadata": {},
   "outputs": [],
   "source": [
    "# Reserve 0 for pad_sequences\n",
    "vocab_size = len(vocab) + 1"
   ]
  },
  {
   "cell_type": "markdown",
   "metadata": {},
   "source": [
    "-----------"
   ]
  },
  {
   "cell_type": "code",
   "execution_count": 24,
   "metadata": {},
   "outputs": [
    {
     "name": "stderr",
     "output_type": "stream",
     "text": [
      "Using TensorFlow backend.\n"
     ]
    }
   ],
   "source": [
    "from keras.preprocessing.sequence import pad_sequences\n",
    "from keras.preprocessing.text import Tokenizer"
   ]
  },
  {
   "cell_type": "code",
   "execution_count": 25,
   "metadata": {},
   "outputs": [],
   "source": [
    "# integer encode sequences of words\n",
    "tokenizer = Tokenizer(filters=[])\n",
    "tokenizer.fit_on_texts(vocab)"
   ]
  },
  {
   "cell_type": "code",
   "execution_count": 26,
   "metadata": {},
   "outputs": [
    {
     "data": {
      "text/plain": [
       "{'bedroom': 1,\n",
       " 'back': 2,\n",
       " 'took': 3,\n",
       " 'moved': 4,\n",
       " 'grabbed': 5,\n",
       " 'got': 6,\n",
       " 'picked': 7,\n",
       " 'journeyed': 8,\n",
       " 'up': 9,\n",
       " 'the': 10,\n",
       " 'john': 11,\n",
       " 'apple': 12,\n",
       " '?': 13,\n",
       " 'dropped': 14,\n",
       " 'milk': 15,\n",
       " 'went': 16,\n",
       " 'travelled': 17,\n",
       " 'is': 18,\n",
       " 'mary': 19,\n",
       " 'to': 20,\n",
       " 'office': 21,\n",
       " 'kitchen': 22,\n",
       " 'garden': 23,\n",
       " 'no': 24,\n",
       " 'yes': 25,\n",
       " 'there': 26,\n",
       " 'hallway': 27,\n",
       " 'put': 28,\n",
       " 'daniel': 29,\n",
       " 'in': 30,\n",
       " '.': 31,\n",
       " 'discarded': 32,\n",
       " 'bathroom': 33,\n",
       " 'sandra': 34,\n",
       " 'football': 35,\n",
       " 'left': 36,\n",
       " 'down': 37}"
      ]
     },
     "execution_count": 26,
     "metadata": {},
     "output_type": "execute_result"
    }
   ],
   "source": [
    "tokenizer.word_index"
   ]
  },
  {
   "cell_type": "code",
   "execution_count": 27,
   "metadata": {},
   "outputs": [],
   "source": [
    "train_story_text = []\n",
    "train_question_text = []\n",
    "train_answers = []\n",
    "\n",
    "for story,question,answer in train_data:\n",
    "    train_story_text.append(story)\n",
    "    train_question_text.append(question)"
   ]
  },
  {
   "cell_type": "code",
   "execution_count": 28,
   "metadata": {},
   "outputs": [],
   "source": [
    "train_story_seq = tokenizer.texts_to_sequences(train_story_text)"
   ]
  },
  {
   "cell_type": "code",
   "execution_count": 29,
   "metadata": {},
   "outputs": [
    {
     "data": {
      "text/plain": [
       "10000"
      ]
     },
     "execution_count": 29,
     "metadata": {},
     "output_type": "execute_result"
    }
   ],
   "source": [
    "len(train_story_text)"
   ]
  },
  {
   "cell_type": "code",
   "execution_count": 30,
   "metadata": {},
   "outputs": [
    {
     "data": {
      "text/plain": [
       "10000"
      ]
     },
     "execution_count": 30,
     "metadata": {},
     "output_type": "execute_result"
    }
   ],
   "source": [
    "len(train_story_seq)"
   ]
  },
  {
   "cell_type": "code",
   "execution_count": 31,
   "metadata": {},
   "outputs": [],
   "source": [
    "# word_index = tokenizer.word_index"
   ]
  },
  {
   "cell_type": "markdown",
   "metadata": {},
   "source": [
    "### Functionalize Vectorization"
   ]
  },
  {
   "cell_type": "code",
   "execution_count": 32,
   "metadata": {},
   "outputs": [],
   "source": [
    "def vectorize_stories(data, word_index=tokenizer.word_index, max_story_len=max_story_len,max_question_len=max_question_len):\n",
    "    '''\n",
    "    INPUT: \n",
    "    \n",
    "    data: consisting of Stories,Queries,and Answers\n",
    "    word_index: word index dictionary from tokenizer\n",
    "    max_story_len: the length of the longest story (used for pad_sequences function)\n",
    "    max_question_len: length of the longest question (used for pad_sequences function)\n",
    "\n",
    "\n",
    "    OUTPUT:\n",
    "    \n",
    "    Vectorizes the stories,questions, and answers into padded sequences. We first loop for every story, query , and\n",
    "    answer in the data. Then we convert the raw words to an word index value. Then we append each set to their appropriate\n",
    "    output list. Then once we have converted the words to numbers, we pad the sequences so they are all of equal length.\n",
    "    \n",
    "    Returns this in the form of a tuple (X,Xq,Y) (padded based on max lengths)\n",
    "    '''\n",
    "    \n",
    "    \n",
    "    # X = STORIES\n",
    "    X = []\n",
    "    # Xq = QUERY/QUESTION\n",
    "    Xq = []\n",
    "    # Y = CORRECT ANSWER\n",
    "    Y = []\n",
    "    \n",
    "    \n",
    "    for story, query, answer in data:\n",
    "        \n",
    "        # Grab the word index for every word in story\n",
    "        x = [word_index[word.lower()] for word in story]\n",
    "        # Grab the word index for every word in query\n",
    "        xq = [word_index[word.lower()] for word in query]\n",
    "        \n",
    "        # Grab the Answers (either Yes/No so we don't need to use list comprehension here)\n",
    "        # Index 0 is reserved so we're going to use + 1\n",
    "        y = np.zeros(len(word_index) + 1)\n",
    "        \n",
    "        # Now that y is all zeros and we know its just Yes/No , we can use numpy logic to create this assignment\n",
    "        #\n",
    "        y[word_index[answer]] = 1\n",
    "        \n",
    "        # Append each set of story,query, and answer to their respective holding lists\n",
    "        X.append(x)\n",
    "        Xq.append(xq)\n",
    "        Y.append(y)\n",
    "        \n",
    "    # Finally, pad the sequences based on their max length so the RNN can be trained on uniformly long sequences.\n",
    "        \n",
    "    # RETURN TUPLE FOR UNPACKING\n",
    "    return (pad_sequences(X, maxlen=max_story_len),pad_sequences(Xq, maxlen=max_question_len), np.array(Y))"
   ]
  },
  {
   "cell_type": "code",
   "execution_count": 33,
   "metadata": {},
   "outputs": [],
   "source": [
    "inputs_train, queries_train, answers_train = vectorize_stories(train_data)"
   ]
  },
  {
   "cell_type": "code",
   "execution_count": 34,
   "metadata": {},
   "outputs": [],
   "source": [
    "inputs_test, queries_test, answers_test = vectorize_stories(test_data)"
   ]
  },
  {
   "cell_type": "code",
   "execution_count": 35,
   "metadata": {},
   "outputs": [
    {
     "data": {
      "text/plain": [
       "array([[ 0,  0,  0, ..., 10,  1, 31],\n",
       "       [ 0,  0,  0, ..., 10, 23, 31],\n",
       "       [ 0,  0,  0, ..., 10, 23, 31],\n",
       "       ...,\n",
       "       [ 0,  0,  0, ..., 10, 12, 31],\n",
       "       [ 0,  0,  0, ..., 10, 23, 31],\n",
       "       [ 0,  0,  0, ..., 12, 26, 31]])"
      ]
     },
     "execution_count": 35,
     "metadata": {},
     "output_type": "execute_result"
    }
   ],
   "source": [
    "inputs_test"
   ]
  },
  {
   "cell_type": "code",
   "execution_count": 36,
   "metadata": {},
   "outputs": [
    {
     "data": {
      "text/plain": [
       "array([[18, 11, 30, 10, 22, 13],\n",
       "       [18, 11, 30, 10, 22, 13],\n",
       "       [18, 11, 30, 10, 23, 13],\n",
       "       ...,\n",
       "       [18, 19, 30, 10,  1, 13],\n",
       "       [18, 34, 30, 10, 23, 13],\n",
       "       [18, 19, 30, 10, 23, 13]])"
      ]
     },
     "execution_count": 36,
     "metadata": {},
     "output_type": "execute_result"
    }
   ],
   "source": [
    "queries_test"
   ]
  },
  {
   "cell_type": "code",
   "execution_count": 37,
   "metadata": {},
   "outputs": [
    {
     "data": {
      "text/plain": [
       "array([[0., 0., 0., ..., 0., 0., 0.],\n",
       "       [0., 0., 0., ..., 0., 0., 0.],\n",
       "       [0., 0., 0., ..., 0., 0., 0.],\n",
       "       ...,\n",
       "       [0., 0., 0., ..., 0., 0., 0.],\n",
       "       [0., 0., 0., ..., 0., 0., 0.],\n",
       "       [0., 0., 0., ..., 0., 0., 0.]])"
      ]
     },
     "execution_count": 37,
     "metadata": {},
     "output_type": "execute_result"
    }
   ],
   "source": [
    "answers_test"
   ]
  },
  {
   "cell_type": "code",
   "execution_count": 38,
   "metadata": {},
   "outputs": [
    {
     "data": {
      "text/plain": [
       "array([  0.,   0.,   0.,   0.,   0.,   0.,   0.,   0.,   0.,   0.,   0.,\n",
       "         0.,   0.,   0.,   0.,   0.,   0.,   0.,   0.,   0.,   0.,   0.,\n",
       "         0.,   0., 503., 497.,   0.,   0.,   0.,   0.,   0.,   0.,   0.,\n",
       "         0.,   0.,   0.,   0.,   0.])"
      ]
     },
     "execution_count": 38,
     "metadata": {},
     "output_type": "execute_result"
    }
   ],
   "source": [
    "sum(answers_test)"
   ]
  },
  {
   "cell_type": "code",
   "execution_count": 39,
   "metadata": {},
   "outputs": [
    {
     "data": {
      "text/plain": [
       "25"
      ]
     },
     "execution_count": 39,
     "metadata": {},
     "output_type": "execute_result"
    }
   ],
   "source": [
    "tokenizer.word_index['yes']"
   ]
  },
  {
   "cell_type": "code",
   "execution_count": 40,
   "metadata": {},
   "outputs": [
    {
     "data": {
      "text/plain": [
       "24"
      ]
     },
     "execution_count": 40,
     "metadata": {},
     "output_type": "execute_result"
    }
   ],
   "source": [
    "tokenizer.word_index['no']"
   ]
  },
  {
   "cell_type": "markdown",
   "metadata": {},
   "source": [
    "## Creating the Model"
   ]
  },
  {
   "cell_type": "code",
   "execution_count": 41,
   "metadata": {},
   "outputs": [],
   "source": [
    "from keras.models import Sequential, Model\n",
    "from keras.layers.embeddings import Embedding\n",
    "from keras.layers import Input, Activation, Dense, Permute, Dropout\n",
    "from keras.layers import add, dot, concatenate\n",
    "from keras.layers import LSTM"
   ]
  },
  {
   "cell_type": "markdown",
   "metadata": {},
   "source": [
    "### Placeholders for Inputs\n",
    "\n",
    "Recall we technically have two inputs, stories and questions. So we need to use placeholders. `Input()` is used to instantiate a Keras tensor.\n"
   ]
  },
  {
   "cell_type": "code",
   "execution_count": 42,
   "metadata": {},
   "outputs": [],
   "source": [
    "input_sequence = Input((max_story_len,))\n",
    "question = Input((max_question_len,))"
   ]
  },
  {
   "cell_type": "markdown",
   "metadata": {
    "collapsed": true
   },
   "source": [
    "### Building the Networks\n",
    "\n",
    "To understand why we chose this setup, make sure to read the paper we are using:\n",
    "\n",
    "* Sainbayar Sukhbaatar, Arthur Szlam, Jason Weston, Rob Fergus,\n",
    "  \"End-To-End Memory Networks\",\n",
    "  http://arxiv.org/abs/1503.08895"
   ]
  },
  {
   "cell_type": "markdown",
   "metadata": {},
   "source": [
    "## Encoders\n",
    "\n",
    "### Input Encoder m"
   ]
  },
  {
   "cell_type": "code",
   "execution_count": 43,
   "metadata": {},
   "outputs": [
    {
     "name": "stdout",
     "output_type": "stream",
     "text": [
      "WARNING:tensorflow:From C:\\Users\\shubh\\AppData\\Local\\Continuum\\anaconda3\\envs\\nlp_course\\lib\\site-packages\\tensorflow\\python\\ops\\resource_variable_ops.py:435: colocate_with (from tensorflow.python.framework.ops) is deprecated and will be removed in a future version.\n",
      "Instructions for updating:\n",
      "Colocations handled automatically by placer.\n"
     ]
    }
   ],
   "source": [
    "# Input gets embedded to a sequence of vectors\n",
    "input_encoder_m = Sequential()\n",
    "input_encoder_m.add(Embedding(input_dim=vocab_size,output_dim=64))\n",
    "input_encoder_m.add(Dropout(0.3))\n",
    "\n",
    "# This encoder will output:\n",
    "# (samples, story_maxlen, embedding_dim)"
   ]
  },
  {
   "cell_type": "markdown",
   "metadata": {},
   "source": [
    "### Input Encoder c"
   ]
  },
  {
   "cell_type": "code",
   "execution_count": 44,
   "metadata": {},
   "outputs": [],
   "source": [
    "# embed the input into a sequence of vectors of size query_maxlen\n",
    "input_encoder_c = Sequential()\n",
    "input_encoder_c.add(Embedding(input_dim=vocab_size,output_dim=max_question_len))\n",
    "input_encoder_c.add(Dropout(0.3))\n",
    "# output: (samples, story_maxlen, query_maxlen)"
   ]
  },
  {
   "cell_type": "markdown",
   "metadata": {},
   "source": [
    "### Question Encoder"
   ]
  },
  {
   "cell_type": "code",
   "execution_count": 45,
   "metadata": {},
   "outputs": [],
   "source": [
    "# embed the question into a sequence of vectors\n",
    "question_encoder = Sequential()\n",
    "question_encoder.add(Embedding(input_dim=vocab_size,\n",
    "                               output_dim=64,\n",
    "                               input_length=max_question_len))\n",
    "question_encoder.add(Dropout(0.3))\n",
    "# output: (samples, query_maxlen, embedding_dim)"
   ]
  },
  {
   "cell_type": "markdown",
   "metadata": {},
   "source": [
    "### Encode the Sequences"
   ]
  },
  {
   "cell_type": "code",
   "execution_count": 46,
   "metadata": {},
   "outputs": [],
   "source": [
    "# encode input sequence and questions (which are indices)\n",
    "# to sequences of dense vectors\n",
    "input_encoded_m = input_encoder_m(input_sequence)\n",
    "input_encoded_c = input_encoder_c(input_sequence)\n",
    "question_encoded = question_encoder(question)"
   ]
  },
  {
   "cell_type": "markdown",
   "metadata": {},
   "source": [
    "##### Use dot product to compute the match between first input vector seq and the query"
   ]
  },
  {
   "cell_type": "code",
   "execution_count": 47,
   "metadata": {},
   "outputs": [],
   "source": [
    "# shape: `(samples, story_maxlen, query_maxlen)`\n",
    "match = dot([input_encoded_m, question_encoded], axes=(2, 2))\n",
    "match = Activation('softmax')(match)"
   ]
  },
  {
   "cell_type": "markdown",
   "metadata": {},
   "source": [
    "#### Add this match matrix with the second input vector sequence"
   ]
  },
  {
   "cell_type": "code",
   "execution_count": 48,
   "metadata": {},
   "outputs": [],
   "source": [
    "# add the match matrix with the second input vector sequence\n",
    "response = add([match, input_encoded_c])  # (samples, story_maxlen, query_maxlen)\n",
    "response = Permute((2, 1))(response)  # (samples, query_maxlen, story_maxlen)"
   ]
  },
  {
   "cell_type": "markdown",
   "metadata": {},
   "source": [
    "#### Concatenate"
   ]
  },
  {
   "cell_type": "code",
   "execution_count": 49,
   "metadata": {},
   "outputs": [],
   "source": [
    "# concatenate the match matrix with the question vector sequence\n",
    "answer = concatenate([response, question_encoded])"
   ]
  },
  {
   "cell_type": "code",
   "execution_count": 50,
   "metadata": {},
   "outputs": [
    {
     "data": {
      "text/plain": [
       "<tf.Tensor 'concatenate_1/concat:0' shape=(?, 6, 220) dtype=float32>"
      ]
     },
     "execution_count": 50,
     "metadata": {},
     "output_type": "execute_result"
    }
   ],
   "source": [
    "answer"
   ]
  },
  {
   "cell_type": "code",
   "execution_count": 51,
   "metadata": {},
   "outputs": [],
   "source": [
    "# Reduce with RNN (LSTM)\n",
    "answer = LSTM(32)(answer)  # (samples, 32)"
   ]
  },
  {
   "cell_type": "code",
   "execution_count": 52,
   "metadata": {},
   "outputs": [],
   "source": [
    "# Regularization with Dropout\n",
    "answer = Dropout(0.5)(answer)\n",
    "answer = Dense(vocab_size)(answer)  # (samples, vocab_size)"
   ]
  },
  {
   "cell_type": "code",
   "execution_count": 53,
   "metadata": {},
   "outputs": [],
   "source": [
    "# we output a probability distribution over the vocabulary\n",
    "answer = Activation('softmax')(answer)\n",
    "\n",
    "# build the final model\n",
    "model = Model([input_sequence, question], answer)\n",
    "model.compile(optimizer='rmsprop', loss='categorical_crossentropy',\n",
    "              metrics=['accuracy'])"
   ]
  },
  {
   "cell_type": "code",
   "execution_count": 54,
   "metadata": {},
   "outputs": [
    {
     "name": "stdout",
     "output_type": "stream",
     "text": [
      "Model: \"model_1\"\n",
      "__________________________________________________________________________________________________\n",
      "Layer (type)                    Output Shape         Param #     Connected to                     \n",
      "==================================================================================================\n",
      "input_1 (InputLayer)            (None, 156)          0                                            \n",
      "__________________________________________________________________________________________________\n",
      "input_2 (InputLayer)            (None, 6)            0                                            \n",
      "__________________________________________________________________________________________________\n",
      "sequential_1 (Sequential)       multiple             2432        input_1[0][0]                    \n",
      "__________________________________________________________________________________________________\n",
      "sequential_3 (Sequential)       (None, 6, 64)        2432        input_2[0][0]                    \n",
      "__________________________________________________________________________________________________\n",
      "dot_1 (Dot)                     (None, 156, 6)       0           sequential_1[1][0]               \n",
      "                                                                 sequential_3[1][0]               \n",
      "__________________________________________________________________________________________________\n",
      "activation_1 (Activation)       (None, 156, 6)       0           dot_1[0][0]                      \n",
      "__________________________________________________________________________________________________\n",
      "sequential_2 (Sequential)       multiple             228         input_1[0][0]                    \n",
      "__________________________________________________________________________________________________\n",
      "add_1 (Add)                     (None, 156, 6)       0           activation_1[0][0]               \n",
      "                                                                 sequential_2[1][0]               \n",
      "__________________________________________________________________________________________________\n",
      "permute_1 (Permute)             (None, 6, 156)       0           add_1[0][0]                      \n",
      "__________________________________________________________________________________________________\n",
      "concatenate_1 (Concatenate)     (None, 6, 220)       0           permute_1[0][0]                  \n",
      "                                                                 sequential_3[1][0]               \n",
      "__________________________________________________________________________________________________\n",
      "lstm_1 (LSTM)                   (None, 32)           32384       concatenate_1[0][0]              \n",
      "__________________________________________________________________________________________________\n",
      "dropout_4 (Dropout)             (None, 32)           0           lstm_1[0][0]                     \n",
      "__________________________________________________________________________________________________\n",
      "dense_1 (Dense)                 (None, 38)           1254        dropout_4[0][0]                  \n",
      "__________________________________________________________________________________________________\n",
      "activation_2 (Activation)       (None, 38)           0           dense_1[0][0]                    \n",
      "==================================================================================================\n",
      "Total params: 38,730\n",
      "Trainable params: 38,730\n",
      "Non-trainable params: 0\n",
      "__________________________________________________________________________________________________\n"
     ]
    }
   ],
   "source": [
    "model.summary()"
   ]
  },
  {
   "cell_type": "code",
   "execution_count": 55,
   "metadata": {},
   "outputs": [
    {
     "name": "stdout",
     "output_type": "stream",
     "text": [
      "WARNING:tensorflow:From C:\\Users\\shubh\\AppData\\Local\\Continuum\\anaconda3\\envs\\nlp_course\\lib\\site-packages\\tensorflow\\python\\ops\\math_ops.py:3066: to_int32 (from tensorflow.python.ops.math_ops) is deprecated and will be removed in a future version.\n",
      "Instructions for updating:\n",
      "Use tf.cast instead.\n",
      "WARNING:tensorflow:From C:\\Users\\shubh\\AppData\\Local\\Continuum\\anaconda3\\envs\\nlp_course\\lib\\site-packages\\tensorflow\\python\\ops\\math_grad.py:102: div (from tensorflow.python.ops.math_ops) is deprecated and will be removed in a future version.\n",
      "Instructions for updating:\n",
      "Deprecated in favor of operator or tf.math.divide.\n",
      "Train on 10000 samples, validate on 1000 samples\n",
      "Epoch 1/120\n",
      "10000/10000 [==============================] - 11s 1ms/step - loss: 0.9425 - accuracy: 0.4935 - val_loss: 0.6959 - val_accuracy: 0.5030\n",
      "Epoch 2/120\n",
      "10000/10000 [==============================] - 7s 734us/step - loss: 0.7042 - accuracy: 0.5124 - val_loss: 0.6932 - val_accuracy: 0.4700\n",
      "Epoch 3/120\n",
      "10000/10000 [==============================] - 7s 708us/step - loss: 0.6962 - accuracy: 0.5025 - val_loss: 0.6937 - val_accuracy: 0.5030\n",
      "Epoch 4/120\n",
      "10000/10000 [==============================] - 7s 713us/step - loss: 0.6953 - accuracy: 0.4960 - val_loss: 0.6953 - val_accuracy: 0.4970\n",
      "Epoch 5/120\n",
      "10000/10000 [==============================] - 7s 735us/step - loss: 0.6946 - accuracy: 0.5032 - val_loss: 0.6933 - val_accuracy: 0.4640\n",
      "Epoch 6/120\n",
      "10000/10000 [==============================] - 7s 730us/step - loss: 0.6947 - accuracy: 0.4977 - val_loss: 0.6950 - val_accuracy: 0.4970\n",
      "Epoch 7/120\n",
      "10000/10000 [==============================] - 8s 755us/step - loss: 0.6951 - accuracy: 0.4904 - val_loss: 0.6959 - val_accuracy: 0.4970\n",
      "Epoch 8/120\n",
      "10000/10000 [==============================] - 7s 731us/step - loss: 0.6942 - accuracy: 0.5003 - val_loss: 0.6941 - val_accuracy: 0.4960\n",
      "Epoch 9/120\n",
      "10000/10000 [==============================] - 7s 728us/step - loss: 0.6941 - accuracy: 0.5102 - val_loss: 0.6985 - val_accuracy: 0.4970\n",
      "Epoch 10/120\n",
      "10000/10000 [==============================] - 7s 723us/step - loss: 0.6930 - accuracy: 0.5123 - val_loss: 0.6961 - val_accuracy: 0.5030\n",
      "Epoch 11/120\n",
      "10000/10000 [==============================] - 7s 737us/step - loss: 0.6911 - accuracy: 0.5138 - val_loss: 0.6945 - val_accuracy: 0.4850\n",
      "Epoch 12/120\n",
      "10000/10000 [==============================] - 7s 722us/step - loss: 0.6862 - accuracy: 0.5389 - val_loss: 0.6963 - val_accuracy: 0.5150\n",
      "Epoch 13/120\n",
      "10000/10000 [==============================] - 8s 784us/step - loss: 0.6739 - accuracy: 0.5778 - val_loss: 0.6835 - val_accuracy: 0.5520\n",
      "Epoch 14/120\n",
      "10000/10000 [==============================] - 8s 809us/step - loss: 0.6636 - accuracy: 0.6038 - val_loss: 0.6566 - val_accuracy: 0.6320\n",
      "Epoch 15/120\n",
      "10000/10000 [==============================] - 8s 770us/step - loss: 0.6541 - accuracy: 0.6182 - val_loss: 0.6458 - val_accuracy: 0.6500\n",
      "Epoch 16/120\n",
      "10000/10000 [==============================] - 7s 671us/step - loss: 0.6450 - accuracy: 0.6323 - val_loss: 0.6428 - val_accuracy: 0.6320\n",
      "Epoch 17/120\n",
      "10000/10000 [==============================] - 6s 644us/step - loss: 0.6316 - accuracy: 0.6467 - val_loss: 0.6191 - val_accuracy: 0.6620\n",
      "Epoch 18/120\n",
      "10000/10000 [==============================] - 6s 636us/step - loss: 0.6148 - accuracy: 0.6672 - val_loss: 0.6391 - val_accuracy: 0.6320\n",
      "Epoch 19/120\n",
      "10000/10000 [==============================] - 7s 745us/step - loss: 0.5944 - accuracy: 0.6890 - val_loss: 0.5827 - val_accuracy: 0.7110\n",
      "Epoch 20/120\n",
      "10000/10000 [==============================] - 7s 687us/step - loss: 0.5709 - accuracy: 0.7124 - val_loss: 0.5433 - val_accuracy: 0.7320\n",
      "Epoch 21/120\n",
      "10000/10000 [==============================] - 7s 745us/step - loss: 0.5582 - accuracy: 0.7209 - val_loss: 0.5538 - val_accuracy: 0.7320\n",
      "Epoch 22/120\n",
      "10000/10000 [==============================] - 7s 715us/step - loss: 0.5314 - accuracy: 0.7467 - val_loss: 0.5091 - val_accuracy: 0.7650\n",
      "Epoch 23/120\n",
      "10000/10000 [==============================] - 7s 732us/step - loss: 0.5168 - accuracy: 0.7603 - val_loss: 0.4924 - val_accuracy: 0.7620\n",
      "Epoch 24/120\n",
      "10000/10000 [==============================] - 7s 659us/step - loss: 0.4937 - accuracy: 0.7747 - val_loss: 0.4695 - val_accuracy: 0.7840\n",
      "Epoch 25/120\n",
      "10000/10000 [==============================] - 7s 692us/step - loss: 0.4788 - accuracy: 0.7865 - val_loss: 0.4684 - val_accuracy: 0.7870\n",
      "Epoch 26/120\n",
      "10000/10000 [==============================] - 10s 988us/step - loss: 0.4590 - accuracy: 0.7941 - val_loss: 0.4470 - val_accuracy: 0.8040\n",
      "Epoch 27/120\n",
      "10000/10000 [==============================] - 7s 651us/step - loss: 0.4472 - accuracy: 0.8037 - val_loss: 0.4266 - val_accuracy: 0.8030\n",
      "Epoch 28/120\n",
      "10000/10000 [==============================] - 7s 662us/step - loss: 0.4325 - accuracy: 0.8125 - val_loss: 0.4132 - val_accuracy: 0.8090\n",
      "Epoch 29/120\n",
      "10000/10000 [==============================] - 9s 850us/step - loss: 0.4147 - accuracy: 0.8215 - val_loss: 0.4012 - val_accuracy: 0.8170\n",
      "Epoch 30/120\n",
      "10000/10000 [==============================] - 7s 738us/step - loss: 0.4013 - accuracy: 0.8291 - val_loss: 0.4023 - val_accuracy: 0.8210\n",
      "Epoch 31/120\n",
      "10000/10000 [==============================] - 7s 749us/step - loss: 0.3919 - accuracy: 0.8329 - val_loss: 0.3912 - val_accuracy: 0.8250\n",
      "Epoch 32/120\n",
      "10000/10000 [==============================] - 7s 699us/step - loss: 0.3789 - accuracy: 0.8431 - val_loss: 0.3885 - val_accuracy: 0.8230\n",
      "Epoch 33/120\n",
      "10000/10000 [==============================] - 7s 695us/step - loss: 0.3686 - accuracy: 0.8459 - val_loss: 0.3830 - val_accuracy: 0.8310\n",
      "Epoch 34/120\n",
      "10000/10000 [==============================] - 7s 685us/step - loss: 0.3667 - accuracy: 0.8451 - val_loss: 0.3752 - val_accuracy: 0.8250\n",
      "Epoch 35/120\n",
      "10000/10000 [==============================] - 7s 682us/step - loss: 0.3597 - accuracy: 0.8489 - val_loss: 0.3755 - val_accuracy: 0.8270\n",
      "Epoch 36/120\n",
      "10000/10000 [==============================] - 7s 679us/step - loss: 0.3559 - accuracy: 0.8491 - val_loss: 0.3682 - val_accuracy: 0.8250\n",
      "Epoch 37/120\n",
      "10000/10000 [==============================] - 7s 681us/step - loss: 0.3534 - accuracy: 0.8521 - val_loss: 0.3806 - val_accuracy: 0.8270\n",
      "Epoch 38/120\n",
      "10000/10000 [==============================] - 7s 682us/step - loss: 0.3488 - accuracy: 0.8523 - val_loss: 0.3706 - val_accuracy: 0.8260\n",
      "Epoch 39/120\n",
      "10000/10000 [==============================] - 7s 687us/step - loss: 0.3476 - accuracy: 0.8575 - val_loss: 0.3633 - val_accuracy: 0.8290\n",
      "Epoch 40/120\n",
      "10000/10000 [==============================] - 7s 694us/step - loss: 0.3454 - accuracy: 0.8498 - val_loss: 0.3630 - val_accuracy: 0.8290\n",
      "Epoch 41/120\n",
      "10000/10000 [==============================] - 7s 679us/step - loss: 0.3370 - accuracy: 0.8602 - val_loss: 0.3613 - val_accuracy: 0.8370\n",
      "Epoch 42/120\n",
      "10000/10000 [==============================] - 7s 685us/step - loss: 0.3373 - accuracy: 0.8556 - val_loss: 0.3762 - val_accuracy: 0.8240\n",
      "Epoch 43/120\n",
      "10000/10000 [==============================] - 7s 686us/step - loss: 0.3355 - accuracy: 0.8602 - val_loss: 0.3697 - val_accuracy: 0.8340\n",
      "Epoch 44/120\n",
      "10000/10000 [==============================] - 7s 704us/step - loss: 0.3306 - accuracy: 0.8593 - val_loss: 0.3959 - val_accuracy: 0.8200\n",
      "Epoch 45/120\n",
      "10000/10000 [==============================] - 7s 694us/step - loss: 0.3273 - accuracy: 0.8631 - val_loss: 0.3741 - val_accuracy: 0.8280\n",
      "Epoch 46/120\n",
      "10000/10000 [==============================] - 7s 687us/step - loss: 0.3228 - accuracy: 0.8651 - val_loss: 0.3805 - val_accuracy: 0.8330\n",
      "Epoch 47/120\n",
      "10000/10000 [==============================] - 7s 689us/step - loss: 0.3223 - accuracy: 0.8654 - val_loss: 0.3721 - val_accuracy: 0.8360\n",
      "Epoch 48/120\n",
      "10000/10000 [==============================] - 7s 687us/step - loss: 0.3179 - accuracy: 0.8640 - val_loss: 0.3652 - val_accuracy: 0.8290\n",
      "Epoch 49/120\n",
      "10000/10000 [==============================] - 7s 706us/step - loss: 0.3204 - accuracy: 0.8623 - val_loss: 0.3895 - val_accuracy: 0.8290\n",
      "Epoch 50/120\n",
      "10000/10000 [==============================] - 7s 688us/step - loss: 0.3150 - accuracy: 0.8641 - val_loss: 0.3660 - val_accuracy: 0.8260\n",
      "Epoch 51/120\n"
     ]
    },
    {
     "name": "stdout",
     "output_type": "stream",
     "text": [
      "10000/10000 [==============================] - 7s 679us/step - loss: 0.3210 - accuracy: 0.8629 - val_loss: 0.3515 - val_accuracy: 0.8370\n",
      "Epoch 52/120\n",
      "10000/10000 [==============================] - 7s 674us/step - loss: 0.3178 - accuracy: 0.8640 - val_loss: 0.3710 - val_accuracy: 0.8300\n",
      "Epoch 53/120\n",
      "10000/10000 [==============================] - 7s 675us/step - loss: 0.3135 - accuracy: 0.8677 - val_loss: 0.3757 - val_accuracy: 0.8330\n",
      "Epoch 54/120\n",
      "10000/10000 [==============================] - 7s 671us/step - loss: 0.3116 - accuracy: 0.8693 - val_loss: 0.3918 - val_accuracy: 0.8330\n",
      "Epoch 55/120\n",
      "10000/10000 [==============================] - 7s 673us/step - loss: 0.3120 - accuracy: 0.8679 - val_loss: 0.3749 - val_accuracy: 0.8320\n",
      "Epoch 56/120\n",
      "10000/10000 [==============================] - 7s 676us/step - loss: 0.3081 - accuracy: 0.8709 - val_loss: 0.3760 - val_accuracy: 0.8290\n",
      "Epoch 57/120\n",
      "10000/10000 [==============================] - 7s 678us/step - loss: 0.3032 - accuracy: 0.8684 - val_loss: 0.3819 - val_accuracy: 0.8200\n",
      "Epoch 58/120\n",
      "10000/10000 [==============================] - 7s 678us/step - loss: 0.3058 - accuracy: 0.8710 - val_loss: 0.3937 - val_accuracy: 0.8210\n",
      "Epoch 59/120\n",
      "10000/10000 [==============================] - 7s 673us/step - loss: 0.3056 - accuracy: 0.8712 - val_loss: 0.3859 - val_accuracy: 0.8310\n",
      "Epoch 60/120\n",
      "10000/10000 [==============================] - 7s 678us/step - loss: 0.3032 - accuracy: 0.8695 - val_loss: 0.3790 - val_accuracy: 0.8340\n",
      "Epoch 61/120\n",
      "10000/10000 [==============================] - 7s 682us/step - loss: 0.3021 - accuracy: 0.8699 - val_loss: 0.3676 - val_accuracy: 0.8340\n",
      "Epoch 62/120\n",
      "10000/10000 [==============================] - 7s 672us/step - loss: 0.2990 - accuracy: 0.8738 - val_loss: 0.3983 - val_accuracy: 0.8290\n",
      "Epoch 63/120\n",
      "10000/10000 [==============================] - 7s 677us/step - loss: 0.2983 - accuracy: 0.8699 - val_loss: 0.3885 - val_accuracy: 0.8260\n",
      "Epoch 64/120\n",
      "10000/10000 [==============================] - 7s 675us/step - loss: 0.2946 - accuracy: 0.8735 - val_loss: 0.3897 - val_accuracy: 0.8220\n",
      "Epoch 65/120\n",
      "10000/10000 [==============================] - 7s 681us/step - loss: 0.2932 - accuracy: 0.8720 - val_loss: 0.3799 - val_accuracy: 0.8220\n",
      "Epoch 66/120\n",
      "10000/10000 [==============================] - 7s 674us/step - loss: 0.2971 - accuracy: 0.8739 - val_loss: 0.3729 - val_accuracy: 0.8280\n",
      "Epoch 67/120\n",
      "10000/10000 [==============================] - 7s 696us/step - loss: 0.2975 - accuracy: 0.8719 - val_loss: 0.3887 - val_accuracy: 0.8210\n",
      "Epoch 68/120\n",
      "10000/10000 [==============================] - 7s 679us/step - loss: 0.2943 - accuracy: 0.8742 - val_loss: 0.3736 - val_accuracy: 0.8250\n",
      "Epoch 69/120\n",
      "10000/10000 [==============================] - 7s 678us/step - loss: 0.2886 - accuracy: 0.8770 - val_loss: 0.3750 - val_accuracy: 0.8280\n",
      "Epoch 70/120\n",
      "10000/10000 [==============================] - 7s 676us/step - loss: 0.2964 - accuracy: 0.8786 - val_loss: 0.3833 - val_accuracy: 0.8290\n",
      "Epoch 71/120\n",
      "10000/10000 [==============================] - 7s 673us/step - loss: 0.2888 - accuracy: 0.8807 - val_loss: 0.3665 - val_accuracy: 0.8260\n",
      "Epoch 72/120\n",
      "10000/10000 [==============================] - 7s 675us/step - loss: 0.2833 - accuracy: 0.8795 - val_loss: 0.3877 - val_accuracy: 0.8330\n",
      "Epoch 73/120\n",
      "10000/10000 [==============================] - 7s 681us/step - loss: 0.2810 - accuracy: 0.8818 - val_loss: 0.3933 - val_accuracy: 0.8350\n",
      "Epoch 74/120\n",
      "10000/10000 [==============================] - 7s 700us/step - loss: 0.2857 - accuracy: 0.8805 - val_loss: 0.4014 - val_accuracy: 0.8330\n",
      "Epoch 75/120\n",
      "10000/10000 [==============================] - 7s 697us/step - loss: 0.2863 - accuracy: 0.8783 - val_loss: 0.4288 - val_accuracy: 0.8290\n",
      "Epoch 76/120\n",
      "10000/10000 [==============================] - 7s 700us/step - loss: 0.2832 - accuracy: 0.8824 - val_loss: 0.3917 - val_accuracy: 0.8280\n",
      "Epoch 77/120\n",
      "10000/10000 [==============================] - 7s 720us/step - loss: 0.2851 - accuracy: 0.8791 - val_loss: 0.4054 - val_accuracy: 0.8190\n",
      "Epoch 78/120\n",
      "10000/10000 [==============================] - 9s 880us/step - loss: 0.2796 - accuracy: 0.8805 - val_loss: 0.4480 - val_accuracy: 0.8300\n",
      "Epoch 79/120\n",
      "10000/10000 [==============================] - 7s 714us/step - loss: 0.2753 - accuracy: 0.8833 - val_loss: 0.3974 - val_accuracy: 0.8240\n",
      "Epoch 80/120\n",
      "10000/10000 [==============================] - 7s 686us/step - loss: 0.2778 - accuracy: 0.8790 - val_loss: 0.3830 - val_accuracy: 0.8270\n",
      "Epoch 81/120\n",
      "10000/10000 [==============================] - 8s 757us/step - loss: 0.2828 - accuracy: 0.8812 - val_loss: 0.3912 - val_accuracy: 0.8310\n",
      "Epoch 82/120\n",
      "10000/10000 [==============================] - 9s 928us/step - loss: 0.2738 - accuracy: 0.8823 - val_loss: 0.3956 - val_accuracy: 0.8310\n",
      "Epoch 83/120\n",
      "10000/10000 [==============================] - 7s 666us/step - loss: 0.2798 - accuracy: 0.8794 - val_loss: 0.3918 - val_accuracy: 0.8270\n",
      "Epoch 84/120\n",
      "10000/10000 [==============================] - 7s 661us/step - loss: 0.2731 - accuracy: 0.8865 - val_loss: 0.4037 - val_accuracy: 0.8240\n",
      "Epoch 85/120\n",
      "10000/10000 [==============================] - 7s 657us/step - loss: 0.2670 - accuracy: 0.8819 - val_loss: 0.4468 - val_accuracy: 0.8290\n",
      "Epoch 86/120\n",
      "10000/10000 [==============================] - 7s 662us/step - loss: 0.2786 - accuracy: 0.8821 - val_loss: 0.4052 - val_accuracy: 0.8170\n",
      "Epoch 87/120\n",
      "10000/10000 [==============================] - 7s 651us/step - loss: 0.2723 - accuracy: 0.8827 - val_loss: 0.4175 - val_accuracy: 0.8220\n",
      "Epoch 88/120\n",
      "10000/10000 [==============================] - 7s 698us/step - loss: 0.2728 - accuracy: 0.8839 - val_loss: 0.4149 - val_accuracy: 0.8120\n",
      "Epoch 89/120\n",
      "10000/10000 [==============================] - 8s 798us/step - loss: 0.2684 - accuracy: 0.8864 - val_loss: 0.4252 - val_accuracy: 0.8150\n",
      "Epoch 90/120\n",
      "10000/10000 [==============================] - 6s 641us/step - loss: 0.2668 - accuracy: 0.8865 - val_loss: 0.4157 - val_accuracy: 0.8160\n",
      "Epoch 91/120\n",
      "10000/10000 [==============================] - 7s 698us/step - loss: 0.2507 - accuracy: 0.8921 - val_loss: 0.4381 - val_accuracy: 0.8260\n",
      "Epoch 106/120\n",
      "10000/10000 [==============================] - 8s 796us/step - loss: 0.2522 - accuracy: 0.8940 - val_loss: 0.4348 - val_accuracy: 0.8180\n",
      "Epoch 107/120\n",
      "10000/10000 [==============================] - 8s 756us/step - loss: 0.2502 - accuracy: 0.8966 - val_loss: 0.4602 - val_accuracy: 0.8140\n",
      "Epoch 108/120\n",
      "10000/10000 [==============================] - 7s 669us/step - loss: 0.2509 - accuracy: 0.8950 - val_loss: 0.4628 - val_accuracy: 0.8180\n",
      "Epoch 109/120\n",
      "10000/10000 [==============================] - 7s 676us/step - loss: 0.2478 - accuracy: 0.8941 - val_loss: 0.4318 - val_accuracy: 0.8210\n",
      "Epoch 110/120\n",
      "10000/10000 [==============================] - 8s 842us/step - loss: 0.2366 - accuracy: 0.8990 - val_loss: 0.4588 - val_accuracy: 0.8230\n",
      "Epoch 111/120\n",
      "10000/10000 [==============================] - 8s 799us/step - loss: 0.2415 - accuracy: 0.8967 - val_loss: 0.4491 - val_accuracy: 0.8190\n",
      "Epoch 112/120\n",
      "10000/10000 [==============================] - 8s 821us/step - loss: 0.2447 - accuracy: 0.8955 - val_loss: 0.4573 - val_accuracy: 0.8160\n",
      "Epoch 113/120\n",
      "10000/10000 [==============================] - 7s 725us/step - loss: 0.2477 - accuracy: 0.8963 - val_loss: 0.4589 - val_accuracy: 0.8210\n",
      "Epoch 114/120\n",
      "10000/10000 [==============================] - 7s 716us/step - loss: 0.2489 - accuracy: 0.8934 - val_loss: 0.4596 - val_accuracy: 0.8230\n",
      "Epoch 115/120\n",
      "10000/10000 [==============================] - 6s 647us/step - loss: 0.2433 - accuracy: 0.8997 - val_loss: 0.4982 - val_accuracy: 0.8150\n",
      "Epoch 116/120\n",
      "10000/10000 [==============================] - 6s 649us/step - loss: 0.2350 - accuracy: 0.9018 - val_loss: 0.4312 - val_accuracy: 0.8270\n",
      "Epoch 117/120\n",
      "10000/10000 [==============================] - 7s 682us/step - loss: 0.2377 - accuracy: 0.9016 - val_loss: 0.4716 - val_accuracy: 0.8230\n",
      "Epoch 118/120\n",
      "10000/10000 [==============================] - 6s 637us/step - loss: 0.2352 - accuracy: 0.9009 - val_loss: 0.4893 - val_accuracy: 0.8130\n",
      "Epoch 119/120\n"
     ]
    },
    {
     "name": "stdout",
     "output_type": "stream",
     "text": [
      "10000/10000 [==============================] - 6s 644us/step - loss: 0.2360 - accuracy: 0.9020 - val_loss: 0.4959 - val_accuracy: 0.8270\n",
      "Epoch 120/120\n",
      "10000/10000 [==============================] - 7s 668us/step - loss: 0.2389 - accuracy: 0.8973 - val_loss: 0.4915 - val_accuracy: 0.8220\n"
     ]
    }
   ],
   "source": [
    "# train\n",
    "history = model.fit([inputs_train, queries_train], answers_train,batch_size=32,epochs=120,validation_data=([inputs_test, queries_test], answers_test))"
   ]
  },
  {
   "cell_type": "markdown",
   "metadata": {},
   "source": [
    "### Saving the Model"
   ]
  },
  {
   "cell_type": "code",
   "execution_count": 56,
   "metadata": {},
   "outputs": [],
   "source": [
    "filename = 'chatbot_120_epochs.h5'\n",
    "model.save(filename)"
   ]
  },
  {
   "cell_type": "markdown",
   "metadata": {},
   "source": [
    "## Evaluating the Model\n",
    "\n",
    "### Plotting Out Training History"
   ]
  },
  {
   "cell_type": "code",
   "execution_count": 58,
   "metadata": {},
   "outputs": [
    {
     "name": "stdout",
     "output_type": "stream",
     "text": [
      "dict_keys(['val_loss', 'val_accuracy', 'loss', 'accuracy'])\n"
     ]
    },
    {
     "data": {
      "image/png": "[encoded data removed]",
      "text/plain": [
       "<Figure size 432x288 with 1 Axes>"
      ]
     },
     "metadata": {
      "needs_background": "light"
     },
     "output_type": "display_data"
    }
   ],
   "source": [
    "import matplotlib.pyplot as plt\n",
    "%matplotlib inline\n",
    "print(history.history.keys())\n",
    "# summarize history for accuracy\n",
    "plt.plot(history.history['accuracy'])\n",
    "plt.plot(history.history['val_accuracy'])\n",
    "plt.title('model accuracy')\n",
    "plt.ylabel('accuracy')\n",
    "plt.xlabel('epoch')\n",
    "plt.legend(['train', 'test'], loc='upper left')\n",
    "plt.show()"
   ]
  },
  {
   "cell_type": "markdown",
   "metadata": {},
   "source": [
    "### Evaluating on Given Test Set"
   ]
  },
  {
   "cell_type": "code",
   "execution_count": 59,
   "metadata": {},
   "outputs": [],
   "source": [
    "model.load_weights(filename)\n",
    "pred_results = model.predict(([inputs_test, queries_test]))"
   ]
  },
  {
   "cell_type": "code",
   "execution_count": 60,
   "metadata": {},
   "outputs": [
    {
     "data": {
      "text/plain": [
       "['Mary',\n",
       " 'got',\n",
       " 'the',\n",
       " 'milk',\n",
       " 'there',\n",
       " '.',\n",
       " 'John',\n",
       " 'moved',\n",
       " 'to',\n",
       " 'the',\n",
       " 'bedroom',\n",
       " '.']"
      ]
     },
     "execution_count": 60,
     "metadata": {},
     "output_type": "execute_result"
    }
   ],
   "source": [
    "test_data[0][0]"
   ]
  },
  {
   "cell_type": "code",
   "execution_count": 61,
   "metadata": {},
   "outputs": [
    {
     "name": "stdout",
     "output_type": "stream",
     "text": [
      "Mary got the milk there . John moved to the bedroom .\n"
     ]
    }
   ],
   "source": [
    "story =' '.join(word for word in test_data[0][0])\n",
    "print(story)"
   ]
  },
  {
   "cell_type": "code",
   "execution_count": 62,
   "metadata": {},
   "outputs": [
    {
     "name": "stdout",
     "output_type": "stream",
     "text": [
      "Is John in the kitchen ?\n"
     ]
    }
   ],
   "source": [
    "query = ' '.join(word for word in test_data[0][1])\n",
    "print(query)"
   ]
  },
  {
   "cell_type": "code",
   "execution_count": 63,
   "metadata": {},
   "outputs": [
    {
     "name": "stdout",
     "output_type": "stream",
     "text": [
      "True Test Answer from Data is: no\n"
     ]
    }
   ],
   "source": [
    "print(\"True Test Answer from Data is:\",test_data[0][2])"
   ]
  },
  {
   "cell_type": "code",
   "execution_count": 64,
   "metadata": {},
   "outputs": [
    {
     "name": "stdout",
     "output_type": "stream",
     "text": [
      "Predicted answer is:  no\n",
      "Probability of certainty was:  0.9999825\n"
     ]
    }
   ],
   "source": [
    "#Generate prediction from model\n",
    "val_max = np.argmax(pred_results[0])\n",
    "\n",
    "for key, val in tokenizer.word_index.items():\n",
    "    if val == val_max:\n",
    "        k = key\n",
    "\n",
    "print(\"Predicted answer is: \", k)\n",
    "print(\"Probability of certainty was: \", pred_results[0][val_max])"
   ]
  },
  {
   "cell_type": "markdown",
   "metadata": {},
   "source": [
    "## Writing Own Stories and Questions\n",
    "\n",
    "We can only use words from the existing vocab"
   ]
  },
  {
   "cell_type": "code",
   "execution_count": 65,
   "metadata": {},
   "outputs": [
    {
     "data": {
      "text/plain": [
       "{'.',\n",
       " '?',\n",
       " 'Daniel',\n",
       " 'Is',\n",
       " 'John',\n",
       " 'Mary',\n",
       " 'Sandra',\n",
       " 'apple',\n",
       " 'back',\n",
       " 'bathroom',\n",
       " 'bedroom',\n",
       " 'discarded',\n",
       " 'down',\n",
       " 'dropped',\n",
       " 'football',\n",
       " 'garden',\n",
       " 'got',\n",
       " 'grabbed',\n",
       " 'hallway',\n",
       " 'in',\n",
       " 'journeyed',\n",
       " 'kitchen',\n",
       " 'left',\n",
       " 'milk',\n",
       " 'moved',\n",
       " 'no',\n",
       " 'office',\n",
       " 'picked',\n",
       " 'put',\n",
       " 'the',\n",
       " 'there',\n",
       " 'to',\n",
       " 'took',\n",
       " 'travelled',\n",
       " 'up',\n",
       " 'went',\n",
       " 'yes'}"
      ]
     },
     "execution_count": 65,
     "metadata": {},
     "output_type": "execute_result"
    }
   ],
   "source": [
    "vocab"
   ]
  },
  {
   "cell_type": "code",
   "execution_count": 66,
   "metadata": {},
   "outputs": [
    {
     "data": {
      "text/plain": [
       "['John',\n",
       " 'left',\n",
       " 'the',\n",
       " 'kitchen',\n",
       " '.',\n",
       " 'Sandra',\n",
       " 'dropped',\n",
       " 'the',\n",
       " 'football',\n",
       " 'in',\n",
       " 'the',\n",
       " 'garden',\n",
       " '.']"
      ]
     },
     "execution_count": 66,
     "metadata": {},
     "output_type": "execute_result"
    }
   ],
   "source": [
    "# Note the whitespace of the periods\n",
    "my_story = \"John left the kitchen . Sandra dropped the football in the garden .\"\n",
    "my_story.split()"
   ]
  },
  {
   "cell_type": "code",
   "execution_count": 67,
   "metadata": {},
   "outputs": [],
   "source": [
    "my_question = \"Is the football in the garden ?\""
   ]
  },
  {
   "cell_type": "code",
   "execution_count": 68,
   "metadata": {},
   "outputs": [
    {
     "data": {
      "text/plain": [
       "['Is', 'the', 'football', 'in', 'the', 'garden', '?']"
      ]
     },
     "execution_count": 68,
     "metadata": {},
     "output_type": "execute_result"
    }
   ],
   "source": [
    "my_question.split()"
   ]
  },
  {
   "cell_type": "code",
   "execution_count": 69,
   "metadata": {},
   "outputs": [],
   "source": [
    "mydata = [(my_story.split(),my_question.split(),'yes')]"
   ]
  },
  {
   "cell_type": "code",
   "execution_count": 70,
   "metadata": {},
   "outputs": [],
   "source": [
    "my_story,my_ques,my_ans = vectorize_stories(mydata)"
   ]
  },
  {
   "cell_type": "code",
   "execution_count": 71,
   "metadata": {},
   "outputs": [],
   "source": [
    "pred_results = model.predict(([ my_story, my_ques]))"
   ]
  },
  {
   "cell_type": "code",
   "execution_count": 72,
   "metadata": {},
   "outputs": [
    {
     "name": "stdout",
     "output_type": "stream",
     "text": [
      "Predicted answer is:  yes\n",
      "Probability of certainty was:  0.9941268\n"
     ]
    }
   ],
   "source": [
    "#Generate prediction from model\n",
    "val_max = np.argmax(pred_results[0])\n",
    "\n",
    "for key, val in tokenizer.word_index.items():\n",
    "    if val == val_max:\n",
    "        k = key\n",
    "\n",
    "print(\"Predicted answer is: \", k)\n",
    "print(\"Probability of certainty was: \", pred_results[0][val_max])"
   ]
  },
  {
   "cell_type": "code",
   "execution_count": null,
   "metadata": {},
   "outputs": [],
   "source": []
  }
 ],
 "metadata": {
  "kernelspec": {
   "display_name": "Python 3",
   "language": "python",
   "name": "python3"
  },
  "language_info": {
   "codemirror_mode": {
    "name": "ipython",
    "version": 3
   },
   "file_extension": ".py",
   "mimetype": "text/x-python",
   "name": "python",
   "nbconvert_exporter": "python",
   "pygments_lexer": "ipython3",
   "version": "3.7.9"
  }
 },
 "nbformat": 4,
 "nbformat_minor": 2
}
